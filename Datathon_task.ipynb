{
  "nbformat": 4,
  "nbformat_minor": 0,
  "metadata": {
    "colab": {
      "provenance": [],
      "toc_visible": true,
      "include_colab_link": true
    },
    "kernelspec": {
      "name": "python3",
      "display_name": "Python 3"
    },
    "language_info": {
      "name": "python"
    }
  },
  "cells": [
    {
      "cell_type": "markdown",
      "metadata": {
        "id": "view-in-github",
        "colab_type": "text"
      },
      "source": [
        "<a href=\"https://colab.research.google.com/github/faisalnazir1213/BPAI/blob/main/Datathon_task.ipynb\" target=\"_parent\"><img src=\"https://colab.research.google.com/assets/colab-badge.svg\" alt=\"Open In Colab\"/></a>"
      ]
    },
    {
      "cell_type": "markdown",
      "source": [
        "# **BioPhotonics and Artificial Intelligence School**   \n",
        "## **Florence, 17-21 February 2025**   \n",
        "## **Datathon**\n"
      ],
      "metadata": {
        "id": "jrryfpt1lkgl"
      }
    },
    {
      "cell_type": "markdown",
      "source": [
        "# Libraries and data loading. Functions and CNN definition."
      ],
      "metadata": {
        "id": "D8-FOYMXw24j"
      }
    },
    {
      "cell_type": "code",
      "source": [
        "### Connecting gdrive into the google colab ###\n",
        "from google.colab import drive\n",
        "ROOT_PATH = '/content/gdrive'\n",
        "drive.mount(ROOT_PATH, force_remount=True)\n",
        "ROOT_PATH += '/Shared drives/Scuola_BPAI/Scuola_BPAI_2025/Datathon_2025/BPAI2025-Datathon/' # insert here your_path"
      ],
      "metadata": {
        "id": "ZAiV6WARmUUM",
        "colab": {
          "base_uri": "https://localhost:8080/"
        },
        "outputId": "94b3c4cb-aa2f-4ae5-aee4-78735fbb8ecf"
      },
      "execution_count": null,
      "outputs": [
        {
          "output_type": "stream",
          "name": "stdout",
          "text": [
            "Mounted at /content/gdrive\n"
          ]
        }
      ]
    },
    {
      "cell_type": "code",
      "execution_count": null,
      "metadata": {
        "id": "YVB15jcFPzo2"
      },
      "outputs": [],
      "source": [
        "### Import libraries ###\n",
        "from tensorflow.keras.layers import Conv2D, MaxPool2D, Dropout, Flatten, Dense, Input\n",
        "from tensorflow.keras.optimizers import Adam\n",
        "from tensorflow.keras.models import Sequential\n",
        "from tensorflow.keras.utils import to_categorical\n",
        "import matplotlib.pyplot as plt\n",
        "import numpy as np\n",
        "import os\n",
        "import pandas as pd\n",
        "pd.options.mode.chained_assignment = None  # default='warn'\n",
        "from sklearn.model_selection import GroupShuffleSplit\n",
        "from keras.callbacks import ReduceLROnPlateau\n",
        "from tensorflow.keras.preprocessing.image import ImageDataGenerator\n",
        "from sklearn.model_selection import train_test_split\n",
        "from sklearn import preprocessing\n",
        "import tensorflow as tf\n",
        "import random\n",
        "random.seed(12345)"
      ]
    },
    {
      "cell_type": "code",
      "source": [
        "### Functions definition ###\n",
        "\n",
        "# Function that creates the dataset for the binary classification problem, with n instances for each class\n",
        "def Binary_DataFrame_creation(df, cell_type, n):\n",
        "  df.drop_duplicates(subset=[\"lesion_id\"], keep=False, inplace = True) # Remove the lesions' duplicates in order to have one image for each lesion\n",
        "\n",
        "  # The next lines of code selected ony n instances of each class and create a the new dataframe\n",
        "  df1 = df.loc[(skin_df['dx'] == cell_type[0]), :]\n",
        "  df1.drop(df1.index[n::], inplace=True)\n",
        "  df2 = df.loc[(skin_df['dx'] == cell_type[1]), :]\n",
        "  df2.drop(df2.index[n::], inplace=True)\n",
        "  frames = [df1, df2]\n",
        "  df = pd.concat(frames)\n",
        "  df['dx_cat'] = df['dx'].astype('category').cat.codes\n",
        "  return df\n",
        "\n",
        "# Function that splits data in training and test sets according to the validation scheme and standardize the images\n",
        "def validation_scheme(df, seed = 1234):\n",
        "  features=df.drop(columns=['dx_cat'],axis=1) # all the columns except the 'dx_cat' one\n",
        "  target=df['dx_cat']\n",
        "\n",
        "  x_train_o, x_test_o, y_train_o, y_test_o = train_test_split(features, target, test_size=0.20,random_state=seed, shuffle = True) # Hold-out validation scheme\n",
        "\n",
        "  # The next lines of code perform the image standardization\n",
        "  x_train = np.array(x_train_o['image'].tolist())\n",
        "  x_test = np.array(x_test_o['image'].tolist())\n",
        "  x_train_mean = np.mean(x_train)\n",
        "  x_train_std = np.std(x_train)\n",
        "  x_train = (x_train - x_train_mean)/x_train_std\n",
        "  x_test = (x_test - x_train_mean)/x_train_std\n",
        "\n",
        "  # Perform one-hot encoding on the labels\n",
        "  y_train = to_categorical(y_train_o, num_classes = 2)\n",
        "  y_test = to_categorical(y_test_o, num_classes = 2)\n",
        "\n",
        "  return x_train, y_train, x_test, y_test"
      ],
      "metadata": {
        "id": "T0l90fkRgX-L"
      },
      "execution_count": null,
      "outputs": []
    },
    {
      "cell_type": "markdown",
      "source": [
        "**CNN**   \n",
        "\n",
        "To implement the CNN architecture, we followed the strategy proposed in https://www.kaggle.com/code/sid321axn/step-wise-approach-cnn-model-77-0344-accuracy.    \n",
        "We used the Keras Sequential API, where you have just to add one layer at a time, starting from the input.\n",
        "\n",
        "The first is the convolutional (Conv2D) layer. It is like a set of learnable filters. We choosed to set 32 filters for the two firsts conv2D layers and 64 filters for the two last ones. Each filter transforms a part of the image (defined by the kernel size) using the kernel filter. The kernel filter matrix is applied on the whole image. Filters can be seen as a transformation of the image.\n",
        "\n",
        "The CNN can isolate features that are useful everywhere from these transformed images (feature maps).\n",
        "\n",
        "The second important layer in CNN is the pooling (MaxPool2D) layer. This layer simply acts as a downsampling filter. It looks at the 2 neighboring pixels and picks the maximal value. These are used to reduce computational cost, and to some extent also reduce overfitting. We have to choose the pooling size (i.e the area size pooled each time) more the pooling dimension is high, more the downsampling is important.\n",
        "\n",
        "Combining convolutional and pooling layers, CNN are able to combine local features and learn more global features of the image.\n",
        "\n",
        "Dropout is a regularization method, where a proportion of nodes in the layer are randomly ignored (setting their wieghts to zero) for each training sample. This drops randomly a propotion of the network and forces the network to learn features in a distributed way. This technique also improves generalization and reduces the overfitting.\n",
        "\n",
        "'relu' is the rectifier (activation function max(0,x). The rectifier activation function is used to add non linearity to the network.\n",
        "\n",
        "The Flatten layer is use to convert the final feature maps into a one single 1D vector. This flattening step is needed so that you can make use of fully connected layers after some convolutional/maxpool layers. It combines all the found local features of the previous convolutional layers.\n",
        "\n",
        "In the end we used the features in two fully-connected (Dense) layers which is just artificial an neural networks (ANN) classifier. In the last layer(Dense(10,activation=\"softmax\")) the net outputs distribution of probability of each class."
      ],
      "metadata": {
        "id": "5f7IN3UQ32hh"
      }
    },
    {
      "cell_type": "code",
      "source": [
        "# Function that design the CNN architecture, trains, and tests it on the training and test data respectively\n",
        "\n",
        "def CNN(x_train, y_train, x_test, y_test, n_epochs=3, batch_size=10, seed=1234):\n",
        "    # Set seeds for reproducibility\n",
        "    tf.random.set_seed(seed)\n",
        "    np.random.seed(seed)\n",
        "    random.seed(seed)\n",
        "\n",
        "    input_shape = (75, 100, 3)\n",
        "    num_classes = 2\n",
        "\n",
        "    # Model definition\n",
        "    model = Sequential([\n",
        "        Input(shape=input_shape),\n",
        "        Conv2D(32, kernel_size=(3, 3), activation='relu', padding='same',\n",
        "               kernel_initializer=tf.keras.initializers.GlorotUniform(seed=seed)),\n",
        "        Conv2D(32, kernel_size=(3, 3), activation='relu', padding='same',\n",
        "               kernel_initializer=tf.keras.initializers.GlorotUniform(seed=seed)),\n",
        "        MaxPool2D(pool_size=(2, 2)),\n",
        "        Dropout(0.25, seed=seed),  # Added seed to dropout\n",
        "\n",
        "        Conv2D(64, kernel_size=(3, 3), activation='relu', padding='same',\n",
        "               kernel_initializer=tf.keras.initializers.GlorotUniform(seed=seed)),\n",
        "        Conv2D(64, kernel_size=(3, 3), activation='relu', padding='same',\n",
        "               kernel_initializer=tf.keras.initializers.GlorotUniform(seed=seed)),\n",
        "        MaxPool2D(pool_size=(2, 2)),\n",
        "        Dropout(0.40, seed=seed),  # Added seed to dropout\n",
        "\n",
        "        Flatten(),\n",
        "        Dense(128, activation='relu',\n",
        "              kernel_initializer=tf.keras.initializers.GlorotUniform(seed=seed)),\n",
        "        Dropout(0.5, seed=seed),  # Added seed to dropout\n",
        "        Dense(num_classes, activation='softmax',\n",
        "              kernel_initializer=tf.keras.initializers.GlorotUniform(seed=seed))\n",
        "    ])\n",
        "\n",
        "    # Display model summary\n",
        "    #model.summary()\n",
        "\n",
        "    # Define the optimizer\n",
        "    optimizer = Adam(learning_rate=0.001)\n",
        "\n",
        "    # Compile the model\n",
        "    model.compile(optimizer=optimizer, loss=\"categorical_crossentropy\", metrics=[\"AUC\"])\n",
        "\n",
        "    # Train the model\n",
        "    history = model.fit(\n",
        "        x_train,\n",
        "        y_train,\n",
        "        batch_size=batch_size,\n",
        "        epochs=n_epochs,\n",
        "        validation_data=(x_test, y_test),  # Changed x_train -> x_test for validation\n",
        "        verbose=1\n",
        "    )\n",
        "\n",
        "    # Evaluate the model\n",
        "    loss_test, score_test = model.evaluate(x_test, y_test, verbose=0, batch_size=batch_size)\n",
        "    loss_train, score_train = model.evaluate(x_train, y_train, verbose=0, batch_size=batch_size)\n",
        "\n",
        "    return score_train, score_test"
      ],
      "metadata": {
        "id": "tYOixW4Pjo-p"
      },
      "execution_count": null,
      "outputs": []
    },
    {
      "cell_type": "code",
      "source": [
        "# Data loading\n",
        "skin_df = pd.read_pickle(os.path.join(ROOT_PATH, 'data.pkl'))"
      ],
      "metadata": {
        "id": "GX8q4jY_QDIx"
      },
      "execution_count": null,
      "outputs": []
    },
    {
      "cell_type": "markdown",
      "source": [
        "# High-performance example: NV vs. MEL classification"
      ],
      "metadata": {
        "id": "VzC9RWWs5MZA"
      }
    },
    {
      "cell_type": "code",
      "source": [
        "cell_type = ['nv', 'mel'] # select all the images of type 'nv' or 'mel'\n",
        "n = 100 # select X instances for each class (the entire dataset will contain 2X images)"
      ],
      "metadata": {
        "id": "ljD0aIhI5OQR"
      },
      "execution_count": null,
      "outputs": []
    },
    {
      "cell_type": "code",
      "source": [
        "# Creation of the dataset of size 2n, containing images belonging to the two classes selected\n",
        "skin_sel_df = Binary_DataFrame_creation(skin_df, cell_type, n)\n",
        "print(\"Skin DataFrame shape:\", skin_sel_df.shape)"
      ],
      "metadata": {
        "id": "BJ8RIUQ95egm",
        "colab": {
          "base_uri": "https://localhost:8080/"
        },
        "outputId": "1b1fe6b8-ed65-4213-c1aa-2c43e697856e"
      },
      "execution_count": null,
      "outputs": [
        {
          "output_type": "stream",
          "name": "stdout",
          "text": [
            "Skin DataFrame shape: (200, 9)\n"
          ]
        }
      ]
    },
    {
      "cell_type": "code",
      "source": [
        "# Creation of the training and test set, using the validation scheme defined in the function\n",
        "x_train, y_train, x_test, y_test = validation_scheme(skin_sel_df, seed = 1234)\n",
        "\n",
        "print(\"x_train shape:\", None if x_train is None else x_train.shape)\n",
        "print(\"y_train shape:\", None if y_train is None else y_train.shape)\n",
        "print(\"x_test shape:\", None if x_test is None else x_test.shape)\n",
        "print(\"y_test shape:\", None if y_test is None else y_test.shape)"
      ],
      "metadata": {
        "id": "ACCWBuyl5nm8",
        "colab": {
          "base_uri": "https://localhost:8080/"
        },
        "outputId": "4ae28d3e-30a8-4703-97d6-8da39918d398"
      },
      "execution_count": null,
      "outputs": [
        {
          "output_type": "stream",
          "name": "stdout",
          "text": [
            "x_train shape: (160, 75, 100, 3)\n",
            "y_train shape: (160, 2)\n",
            "x_test shape: (40, 75, 100, 3)\n",
            "y_test shape: (40, 2)\n"
          ]
        }
      ]
    },
    {
      "cell_type": "code",
      "source": [
        "# Model training and testing\n",
        "score_train, score_test = CNN(x_train, y_train, x_test, y_test, n_epochs=3, batch_size=10, seed=12345)\n",
        "print(\"The AUC-ROC in training set is\", score_train)\n",
        "print(\"The AUC-ROC in test set is\", score_test)"
      ],
      "metadata": {
        "id": "dFuWCJs5scFb",
        "colab": {
          "base_uri": "https://localhost:8080/"
        },
        "outputId": "6aa030b5-5b57-446d-a4fe-40f01b5984b8"
      },
      "execution_count": null,
      "outputs": [
        {
          "output_type": "stream",
          "name": "stdout",
          "text": [
            "Epoch 1/3\n",
            "\u001b[1m16/16\u001b[0m \u001b[32m━━━━━━━━━━━━━━━━━━━━\u001b[0m\u001b[37m\u001b[0m \u001b[1m11s\u001b[0m 460ms/step - AUC: 0.7195 - loss: 0.7507 - val_AUC: 0.9162 - val_loss: 0.3644\n",
            "Epoch 2/3\n",
            "\u001b[1m16/16\u001b[0m \u001b[32m━━━━━━━━━━━━━━━━━━━━\u001b[0m\u001b[37m\u001b[0m \u001b[1m11s\u001b[0m 518ms/step - AUC: 0.9376 - loss: 0.3140 - val_AUC: 0.9931 - val_loss: 0.1502\n",
            "Epoch 3/3\n",
            "\u001b[1m16/16\u001b[0m \u001b[32m━━━━━━━━━━━━━━━━━━━━\u001b[0m\u001b[37m\u001b[0m \u001b[1m6s\u001b[0m 394ms/step - AUC: 0.9782 - loss: 0.1854 - val_AUC: 0.9819 - val_loss: 0.1606\n",
            "The AUC-ROC in training set is 0.9807030558586121\n",
            "The AUC-ROC in test set is 0.9818750619888306\n"
          ]
        }
      ]
    },
    {
      "cell_type": "markdown",
      "source": [
        "# Low-performance example: BKL vs. MEL classification"
      ],
      "metadata": {
        "id": "o_0TtRl4x_hi"
      }
    },
    {
      "cell_type": "code",
      "source": [
        "cell_type = ['bkl', 'mel'] # select all the images of type 'bkl' or 'mel'\n",
        "n = 100 # select X instances for each class (the entire dataset will contain 2X images)"
      ],
      "metadata": {
        "id": "NE4Cl1B3yHYe"
      },
      "execution_count": null,
      "outputs": []
    },
    {
      "cell_type": "code",
      "source": [
        "# Creation of the dataset of size 2n, containing images belonging to the two classes selected\n",
        "skin_sel_df = Binary_DataFrame_creation(skin_df, cell_type, n)\n",
        "print(\"Skin DataFrame shape:\", skin_sel_df.shape)"
      ],
      "metadata": {
        "id": "76ukp_XyyLIi",
        "colab": {
          "base_uri": "https://localhost:8080/"
        },
        "outputId": "df215f4a-c19f-4ac1-ddf2-2d899db8a7ac"
      },
      "execution_count": null,
      "outputs": [
        {
          "output_type": "stream",
          "name": "stdout",
          "text": [
            "Skin DataFrame shape: (200, 9)\n"
          ]
        }
      ]
    },
    {
      "cell_type": "code",
      "source": [
        "# Creation of the training and test set, using the validation scheme defined in the function\n",
        "x_train, y_train, x_test, y_test = validation_scheme(skin_sel_df, seed = 1234)\n",
        "\n",
        "print(\"x_train shape:\", None if x_train is None else x_train.shape)\n",
        "print(\"y_train shape:\", None if y_train is None else y_train.shape)\n",
        "print(\"x_test shape:\", None if x_test is None else x_test.shape)\n",
        "print(\"y_test shape:\", None if y_test is None else y_test.shape)"
      ],
      "metadata": {
        "id": "_OYZYUk7yPDD",
        "colab": {
          "base_uri": "https://localhost:8080/"
        },
        "outputId": "3df34dd5-5f45-46d1-f97c-f61a895675a0"
      },
      "execution_count": null,
      "outputs": [
        {
          "output_type": "stream",
          "name": "stdout",
          "text": [
            "x_train shape: (160, 75, 100, 3)\n",
            "y_train shape: (160, 2)\n",
            "x_test shape: (40, 75, 100, 3)\n",
            "y_test shape: (40, 2)\n"
          ]
        }
      ]
    },
    {
      "cell_type": "code",
      "source": [
        "# Model training and testing\n",
        "score_train, score_test = CNN(x_train, y_train, x_test, y_test, n_epochs=3, batch_size=10, seed=12345)\n",
        "print(\"The AUC-ROC in training set is\", score_train)\n",
        "print(\"The AUC-ROC in test set is\", score_test)"
      ],
      "metadata": {
        "id": "1IyTakaAstYq",
        "colab": {
          "base_uri": "https://localhost:8080/"
        },
        "outputId": "3e9213cd-aa86-4887-dd9b-fe8076ea1174"
      },
      "execution_count": null,
      "outputs": [
        {
          "output_type": "stream",
          "name": "stdout",
          "text": [
            "Epoch 1/3\n",
            "\u001b[1m16/16\u001b[0m \u001b[32m━━━━━━━━━━━━━━━━━━━━\u001b[0m\u001b[37m\u001b[0m \u001b[1m11s\u001b[0m 546ms/step - AUC: 0.4983 - loss: 1.0415 - val_AUC: 0.6550 - val_loss: 0.6817\n",
            "Epoch 2/3\n",
            "\u001b[1m16/16\u001b[0m \u001b[32m━━━━━━━━━━━━━━━━━━━━\u001b[0m\u001b[37m\u001b[0m \u001b[1m8s\u001b[0m 382ms/step - AUC: 0.6312 - loss: 0.6793 - val_AUC: 0.7609 - val_loss: 0.6630\n",
            "Epoch 3/3\n",
            "\u001b[1m16/16\u001b[0m \u001b[32m━━━━━━━━━━━━━━━━━━━━\u001b[0m\u001b[37m\u001b[0m \u001b[1m10s\u001b[0m 391ms/step - AUC: 0.6334 - loss: 0.6675 - val_AUC: 0.7434 - val_loss: 0.6202\n",
            "The AUC-ROC in training set is 0.7586132884025574\n",
            "The AUC-ROC in test set is 0.7434375286102295\n"
          ]
        }
      ]
    }
  ]
}